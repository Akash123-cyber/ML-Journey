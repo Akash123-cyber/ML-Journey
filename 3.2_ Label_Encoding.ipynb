{
 "cells": [
  {
   "cell_type": "markdown",
   "id": "f8127e2a",
   "metadata": {},
   "source": [
    "# 🌟 1. What is Label Encoding?\n",
    "\n",
    "- ##### **Label Encoding** is a **Categorical data preprocessing technique** used to **convert non-numeric labels** (like “Male”, “Female”, “Yes”, “No”, “Red”, “Blue”) **into numeric form** so that machine learning models can understand them.\n",
    "\n",
    "## 📘 Why?\n",
    "- ##### Most ML algorithms (like Decision Trees, SVMs, or Neural Networks) work only with numbers, not text. So we need to convert text categories → numbers.\n",
    "  \n",
    "<Br>\n",
    "<Hr>\n",
    "<br>\n",
    "\n",
    "# 🧩 2. When to Use Label Encoding\n",
    "\n",
    "- ##### Use Label Encoding when:\n",
    "\n",
    "    - ##### The **categorical feature has ordinal relationship** (meaning the order matters). Example: “Low”, “Medium”, “High” → 0, 1, 2.\n",
    "\n",
    "    - ##### Or sometimes for **non-ordinal data**, but **only with algorithms that can handle arbitrary numeric codes internally (like Tree-based models)**.\n",
    "\n",
    "##### 💀 Avoid Label Encoding for **non-ordinal** features in models like **Linear Regression**, because it might introduce **false numeric relationships**.\n",
    "<Br>\n",
    "<Hr>\n",
    "<br>\n",
    "\n",
    "# 🧠 Real Truth About Label Encoding :\n",
    "\n",
    "- ### On the face **LabelEncoder** looks like that it is used in case of the **Categorical** feature **having ordinal relationship** among its categories but this thought process is very **`counter intuative`** in nature as it encodes the categorical values according to the alphabetical order meaning low -> 1 medium -> 2 and high -> 0 which is altogether counter intuative as it breaks the real world logic\n",
    "\n",
    "- ### **On Top of it we cannot specify the order which we want to give other than the default Alphabetical order of LabelEncoder**\n",
    "\n",
    "- ### So in reality there is no such thing that it is meant for ordinal data **infact it will be better to use it when we have nominal data with Tree-Based Algorithms**\n",
    "\n",
    "### 📊 Comparison with Other Encoders\n",
    "\n",
    "| Encoder Type    | Preserves Order? | Suitable for          | Output Example                  |\n",
    "| --------------- | ---------------- | --------------------- | ------------------------------- |\n",
    "| Label Encoder   | ❌ No             | Target/Single Feature | `Red → 0, Blue → 1`             |\n",
    "| Ordinal Encoder | ✅ Yes            | Ordered Features      | `Low → 0, Medium → 1, High → 2` |\n",
    "| One-Hot Encoder | ❌ No             | Unordered Features    | `[1,0,0], [0,1,0], [0,0,1]`     |\n",
    "\n",
    "\n",
    "\n",
    "\n",
    "\n",
    "\n",
    "# 4. ➡️ Now Comes the Implementation"
   ]
  },
  {
   "cell_type": "code",
   "execution_count": 16,
   "id": "dfd89471",
   "metadata": {},
   "outputs": [],
   "source": [
    "import pandas as pd\n",
    "from sklearn.preprocessing import LabelEncoder"
   ]
  },
  {
   "cell_type": "code",
   "execution_count": 17,
   "id": "45e6bcdc",
   "metadata": {},
   "outputs": [],
   "source": [
    "# creating data for dataframe\n",
    "severity = [\"Low\",\"Medium\",\"High\",\"Low\",\"Medium\",\"High\",\"Highest\"] # This Data has the Ordinal Relationship"
   ]
  },
  {
   "cell_type": "code",
   "execution_count": 27,
   "id": "9ba9160a",
   "metadata": {},
   "outputs": [
    {
     "data": {
      "text/html": [
       "<div>\n",
       "<style scoped>\n",
       "    .dataframe tbody tr th:only-of-type {\n",
       "        vertical-align: middle;\n",
       "    }\n",
       "\n",
       "    .dataframe tbody tr th {\n",
       "        vertical-align: top;\n",
       "    }\n",
       "\n",
       "    .dataframe thead th {\n",
       "        text-align: right;\n",
       "    }\n",
       "</style>\n",
       "<table border=\"1\" class=\"dataframe\">\n",
       "  <thead>\n",
       "    <tr style=\"text-align: right;\">\n",
       "      <th></th>\n",
       "      <th>Severity</th>\n",
       "    </tr>\n",
       "  </thead>\n",
       "  <tbody>\n",
       "    <tr>\n",
       "      <th>0</th>\n",
       "      <td>Low</td>\n",
       "    </tr>\n",
       "    <tr>\n",
       "      <th>1</th>\n",
       "      <td>Medium</td>\n",
       "    </tr>\n",
       "    <tr>\n",
       "      <th>2</th>\n",
       "      <td>High</td>\n",
       "    </tr>\n",
       "    <tr>\n",
       "      <th>3</th>\n",
       "      <td>Low</td>\n",
       "    </tr>\n",
       "    <tr>\n",
       "      <th>4</th>\n",
       "      <td>Medium</td>\n",
       "    </tr>\n",
       "    <tr>\n",
       "      <th>5</th>\n",
       "      <td>High</td>\n",
       "    </tr>\n",
       "    <tr>\n",
       "      <th>6</th>\n",
       "      <td>Highest</td>\n",
       "    </tr>\n",
       "  </tbody>\n",
       "</table>\n",
       "</div>"
      ],
      "text/plain": [
       "  Severity\n",
       "0      Low\n",
       "1   Medium\n",
       "2     High\n",
       "3      Low\n",
       "4   Medium\n",
       "5     High\n",
       "6  Highest"
      ]
     },
     "execution_count": 27,
     "metadata": {},
     "output_type": "execute_result"
    }
   ],
   "source": [
    "# now creating the DataFrame\n",
    "df = pd.DataFrame({\"Severity\": severity})\n",
    "df"
   ]
  },
  {
   "cell_type": "code",
   "execution_count": 19,
   "id": "478129fe",
   "metadata": {},
   "outputs": [
    {
     "data": {
      "text/html": [
       "<div>\n",
       "<style scoped>\n",
       "    .dataframe tbody tr th:only-of-type {\n",
       "        vertical-align: middle;\n",
       "    }\n",
       "\n",
       "    .dataframe tbody tr th {\n",
       "        vertical-align: top;\n",
       "    }\n",
       "\n",
       "    .dataframe thead th {\n",
       "        text-align: right;\n",
       "    }\n",
       "</style>\n",
       "<table border=\"1\" class=\"dataframe\">\n",
       "  <thead>\n",
       "    <tr style=\"text-align: right;\">\n",
       "      <th></th>\n",
       "      <th>Severity</th>\n",
       "    </tr>\n",
       "  </thead>\n",
       "  <tbody>\n",
       "    <tr>\n",
       "      <th>0</th>\n",
       "      <td>2</td>\n",
       "    </tr>\n",
       "    <tr>\n",
       "      <th>1</th>\n",
       "      <td>3</td>\n",
       "    </tr>\n",
       "    <tr>\n",
       "      <th>2</th>\n",
       "      <td>0</td>\n",
       "    </tr>\n",
       "    <tr>\n",
       "      <th>3</th>\n",
       "      <td>2</td>\n",
       "    </tr>\n",
       "    <tr>\n",
       "      <th>4</th>\n",
       "      <td>3</td>\n",
       "    </tr>\n",
       "    <tr>\n",
       "      <th>5</th>\n",
       "      <td>0</td>\n",
       "    </tr>\n",
       "    <tr>\n",
       "      <th>6</th>\n",
       "      <td>1</td>\n",
       "    </tr>\n",
       "  </tbody>\n",
       "</table>\n",
       "</div>"
      ],
      "text/plain": [
       "   Severity\n",
       "0         2\n",
       "1         3\n",
       "2         0\n",
       "3         2\n",
       "4         3\n",
       "5         0\n",
       "6         1"
      ]
     },
     "execution_count": 19,
     "metadata": {},
     "output_type": "execute_result"
    }
   ],
   "source": [
    "# Label Encoding\n",
    "le = LabelEncoder()\n",
    "df[\"Severity\"] = le.fit_transform(df[\"Severity\"])\n",
    "df"
   ]
  },
  {
   "cell_type": "code",
   "execution_count": 22,
   "id": "d09b3137",
   "metadata": {},
   "outputs": [
    {
     "data": {
      "text/plain": [
       "array([2, 3, 0, 1])"
      ]
     },
     "execution_count": 22,
     "metadata": {},
     "output_type": "execute_result"
    }
   ],
   "source": [
    "df[\"Severity\"].unique()"
   ]
  },
  {
   "cell_type": "markdown",
   "id": "c1dd9bcc",
   "metadata": {},
   "source": [
    "## 🧾 Inverse Transformation\n",
    "- You can also decode encoded labels back to their original form using:"
   ]
  },
  {
   "cell_type": "code",
   "execution_count": 25,
   "id": "5f6ec3d7",
   "metadata": {},
   "outputs": [],
   "source": [
    "decoded = le.inverse_transform(df[\"Severity\"].unique())"
   ]
  },
  {
   "cell_type": "code",
   "execution_count": 26,
   "id": "0c1f2fae",
   "metadata": {},
   "outputs": [
    {
     "data": {
      "text/plain": [
       "array(['Low', 'Medium', 'High', 'Highest'], dtype=object)"
      ]
     },
     "execution_count": 26,
     "metadata": {},
     "output_type": "execute_result"
    }
   ],
   "source": [
    "decoded"
   ]
  },
  {
   "cell_type": "markdown",
   "id": "d6934a97",
   "metadata": {},
   "source": [
    "\n",
    "## ⚡ Label Encoding Multiple Columns Automatically\n",
    "\n",
    "If you want to encode all categorical columns at once:\n",
    "\n",
    "```python\n",
    "    df_encoded = df.apply(lambda col: le.fit_transform(col) if col.dtypes == 'object' else col)\n",
    "    print(df_encoded)\n",
    "\n",
    "```\n",
    "This applies LabelEncoder to all columns of type object (string)."
   ]
  },
  {
   "cell_type": "markdown",
   "id": "1b73118d",
   "metadata": {},
   "source": [
    "## 🚫 Limitations of Label Encoding\n",
    "\n",
    "\n",
    "| Limitation                       | Explanation                                                                                         |\n",
    "| -------------------------------- | --------------------------------------------------------------------------------------------------- |\n",
    "| ❌ Creates ordinal relationships  | For non-ordinal data (like Country), “France=0”, “Germany=1”, “Spain=2” introduces false hierarchy. |\n",
    "| ❌ Not suitable for linear models | Algorithms may interpret “Spain” > “France” numerically, which is meaningless.                      |\n",
    "| ⚠️ Must handle unseen categories | If new data has a category unseen during training, it’ll cause an error.                            |\n"
   ]
  },
  {
   "cell_type": "markdown",
   "id": "45f9edd7",
   "metadata": {},
   "source": [
    "## 🧠 Summary Table\n",
    "\n",
    "| Feature                | Label Encoding           | One-Hot Encoding       |\n",
    "| ---------------------- | ------------------------ | ---------------------- |\n",
    "| Output Type            | Integer (0, 1, 2...)     | Binary columns         |\n",
    "| Keeps Ordinal Info     | ✅ Yes                    | ❌ No                   |\n",
    "| For Non-Ordinal Data   | ❌ Avoid                  | ✅ Use                  |\n",
    "| Affected by Model Type | Yes                      | No                     |\n",
    "| Example Use Case       | Size: Small/Medium/Large | Country, Color, Gender |\n"
   ]
  }
 ],
 "metadata": {
  "kernelspec": {
   "display_name": "myEnv",
   "language": "python",
   "name": "python3"
  },
  "language_info": {
   "codemirror_mode": {
    "name": "ipython",
    "version": 3
   },
   "file_extension": ".py",
   "mimetype": "text/x-python",
   "name": "python",
   "nbconvert_exporter": "python",
   "pygments_lexer": "ipython3",
   "version": "3.12.3"
  }
 },
 "nbformat": 4,
 "nbformat_minor": 5
}
