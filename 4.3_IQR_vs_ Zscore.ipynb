{
 "cells": [
  {
   "cell_type": "markdown",
   "id": "9f47bc4d",
   "metadata": {},
   "source": [
    "# 🧩 Tabular Difference between Z-Score and IQR Method\n",
    "\n",
    "| **Aspect**                      | **Z-Score Method**                                    | **IQR (Interquartile Range) Method**                             |                         |                                                     |\n",
    "| ------------------------------- | ----------------------------------------------------- | ---------------------------------------------------------------- | ----------------------- | --------------------------------------------------- |\n",
    "| **Full Form**                   | Standard Score                                        | Interquartile Range                                              |                         |                                                     |\n",
    "| **Formula**                     | $$ Z = \\frac{X - \\mu}{\\sigma} $$                       | IQR = Q3 − Q1                                                    |                         |                                                     |\n",
    "| **Outlier Criterion**           | \\|Z\\| > threshold (usually 3) | Values < (Q1 − 1.5×IQR) or > (Q3 + 1.5×IQR)         |\n",
    "| **Basis**                       | Mean and Standard Deviation                           | Median and Quartiles (Q1, Q3)                                    |                         |                                                     |\n",
    "| **Assumption**                  | Data should follow a **Normal Distribution**          | Works for **any distribution** (especially skewed ones)          |                         |                                                     |\n",
    "| **Sensitivity to Outliers**     | Highly sensitive (outliers affect mean & std)         | Robust (median and quartiles are not affected by outliers)       |                         |                                                     |\n",
    "| **Preferred Data Type**         | Continuous numerical data                             | Continuous or ordinal data                                       |                         |                                                     |\n",
    "| **When to Use**                 | When data is approximately **bell-shaped (Gaussian)** | When data is **skewed** or **non-normal**                        |                         |                                                     |\n",
    "| **Ease of Computation**         | Requires mean & std deviation                         | Requires quartiles (Q1 & Q3)                                     |                                                                            \n",
    "| **Example Thresholds**          |   \\| Z \\| ≥ 3                                         | 1.5×IQR (or sometimes 3×IQR for stricter detection) |\n",
    "| **Performance**                 | Fast and suitable for large, well-behaved datasets    | Slightly slower due to quantile calculation, but still efficient |                         |                                                     |\n",
    "| **Effect of Extreme Outliers**  | Can distort the mean and σ, reducing accuracy         | Not affected since it relies on median and quartiles             |                         |                                                     |\n",
    "| **Implementation**              | `stats.zscore()` or manual formula                    | `np.percentile()` or `df.quantile()`                             |                         |                                                     |\n",
    "| **Visualization Compatibility** | Works well with histograms (normal curve)             | Works well with boxplots (Q1, Q3, whiskers)                      |                         |                                                     |\n"
   ]
  },
  {
   "cell_type": "markdown",
   "id": "b2e0f945",
   "metadata": {},
   "source": [
    "## ⚖️ Which One is Better?\n",
    "\n",
    "#### ✅ If your data is normally distributed → Z-Score is better. Because it captures deviations from the mean accurately and efficiently.\n",
    "\n",
    "#### ✅ If your data is skewed or has many outliers → IQR is better. Because it’s robust — median and quartiles are not affected by extreme values."
   ]
  },
  {
   "cell_type": "markdown",
   "id": "4a758bfc",
   "metadata": {},
   "source": [
    "## 💬 In Practice:\n",
    "\n",
    "| **Scenario**              | **Recommended Method**             |\n",
    "| ------------------------- | ---------------------------------- |\n",
    "| Bell-shaped (Normal) data | Z-Score                            |\n",
    "| Skewed data               | IQR                                |\n",
    "| Small datasets            | IQR (less sensitive to distortion) |\n",
    "| Large, clean datasets     | Z-Score                            |\n",
    "| Mixed distributions       | Try both and compare visually      |\n"
   ]
  },
  {
   "cell_type": "markdown",
   "id": "2a529546",
   "metadata": {},
   "source": [
    "## 🧠 Short Summary\n",
    "\n",
    "| Z-Score                         | IQR                             |     |                                      |\n",
    "| ------------------------------- | ------------------------------- | --- | ------------------------------------ |\n",
    "| Works best for **normal data**  | Works best for **skewed data**  |     |                                      |\n",
    "| Based on **mean and std**       | Based on **quartiles (Q1, Q3)** |     |                                      |\n",
    "| **Sensitive** to extreme values | **Resistant** to extreme values |     |                                      |\n",
    "| Formula-based threshold (\\| \\| >3) | Range-based threshold (1.5×IQR rule) |\n"
   ]
  },
  {
   "cell_type": "markdown",
   "id": "1051b070",
   "metadata": {},
   "source": [
    "## 🏁 Final Verdict\n",
    "\n",
    "#### 👉 If you know your data is normally distributed, use Z-Score — it’s mathematically elegant and faster.\n",
    "#### 👉 If you don’t know the distribution, or your data is skewed or messy, always use IQR — it’s safer and more robust."
   ]
  }
 ],
 "metadata": {
  "language_info": {
   "name": "python"
  }
 },
 "nbformat": 4,
 "nbformat_minor": 5
}
