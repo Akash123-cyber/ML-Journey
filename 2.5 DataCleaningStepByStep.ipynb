{
 "cells": [
  {
   "cell_type": "code",
   "execution_count": 27,
   "metadata": {},
   "outputs": [],
   "source": [
    "# Step 1 load the libraries\n",
    "import pandas as pd\n",
    "import numpy as np\n",
    "from sklearn.impute import SimpleImputer\n"
   ]
  },
  {
   "cell_type": "code",
   "execution_count": 28,
   "metadata": {},
   "outputs": [],
   "source": [
    "\n",
    "# Step 2: Load the dataset\n",
    "\n",
    "# Sample dataset\n",
    "data = {\n",
    "    \"ID\": [101, 102, 103, 104, 105, 105, 106],\n",
    "    \"Name\": [\"Alice\", \"Bob\", \"Charlie\", \"David\", np.nan, \"Eve\", \"Frank\"],\n",
    "    \"Age\": [25, np.nan, 35, 40, 30, 30, 29],\n",
    "    \"Salary\": [50000, 60000, np.nan, 75000, 80000, 80000, 72000],\n",
    "    \"Department\": [\"HR\", \"IT\", \"IT\", \"Finance\", \"HR\", \"HR\", \"IT\"]\n",
    "}\n",
    "\n",
    "df = pd.DataFrame(data)"
   ]
  },
  {
   "cell_type": "code",
   "execution_count": 35,
   "metadata": {},
   "outputs": [],
   "source": [
    "\n",
    "# Step 3: Handle missing values\n",
    "\n",
    "# Impute missing numerical values with mean\n",
    "imputer = SimpleImputer(strategy='mean')\n",
    "df[\"Age\"] = imputer.fit_transform(df[[\"Age\"]])\n",
    "df[\"Salary\"] = imputer.fit_transform(df[[\"Salary\"]])  # Fixed column name capitalization\n",
    "\n",
    "# Filling missing categorical values with mode\n",
    "df.fillna({\"Name\" : df[\"Name\"].mode()[0]}, inplace=True)\n"
   ]
  },
  {
   "cell_type": "code",
   "execution_count": 30,
   "metadata": {},
   "outputs": [],
   "source": [
    "\n",
    "# Step 4: Remove Duplicates\n",
    "df.drop_duplicates(inplace=True)\n"
   ]
  },
  {
   "cell_type": "code",
   "execution_count": 31,
   "metadata": {},
   "outputs": [],
   "source": [
    "# Reset index after dropping duplicates (optional but recommended)\n",
    "# df.reset_index(drop=True, inplace=True)"
   ]
  },
  {
   "cell_type": "code",
   "execution_count": 32,
   "metadata": {},
   "outputs": [],
   "source": [
    "\n",
    "# Step 5: Fix Inconsistencies\n",
    "# Convert Department names to lowercase to maintain consistency\n",
    "df[\"Department\"] = df[\"Department\"].str.lower()"
   ]
  },
  {
   "cell_type": "code",
   "execution_count": 33,
   "metadata": {},
   "outputs": [],
   "source": [
    "\n",
    "# Step 6: Standardize Data types\n",
    "df[\"Age\"] = df[\"Age\"].astype(int)\n",
    "df[\"Salary\"] = df[\"Salary\"].astype(int)"
   ]
  },
  {
   "cell_type": "code",
   "execution_count": 34,
   "metadata": {},
   "outputs": [
    {
     "name": "stdout",
     "output_type": "stream",
     "text": [
      "Cleaned Data:\n",
      "    ID     Name  Age  Salary Department\n",
      "0  101    Alice   25   50000         hr\n",
      "1  102      Bob   31   60000         it\n",
      "2  103  Charlie   35   69500         it\n",
      "3  104    David   40   75000    finance\n",
      "4  105    Alice   30   80000         hr\n",
      "5  105      Eve   30   80000         hr\n",
      "6  106    Frank   29   72000         it\n"
     ]
    }
   ],
   "source": [
    "\n",
    "\n",
    "# Step 7: Display Cleaned Data\n",
    "print(f\"Cleaned Data:\\n{df}\")\n"
   ]
  }
 ],
 "metadata": {
  "kernelspec": {
   "display_name": "Python (myenv)",
   "language": "python",
   "name": "myenv"
  },
  "language_info": {
   "codemirror_mode": {
    "name": "ipython",
    "version": 3
   },
   "file_extension": ".py",
   "mimetype": "text/x-python",
   "name": "python",
   "nbconvert_exporter": "python",
   "pygments_lexer": "ipython3",
   "version": "3.12.3"
  }
 },
 "nbformat": 4,
 "nbformat_minor": 2
}
