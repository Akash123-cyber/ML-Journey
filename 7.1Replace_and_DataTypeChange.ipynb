{
 "cells": [
  {
   "cell_type": "markdown",
   "id": "168e2e42",
   "metadata": {},
   "source": [
    "# Replace And Data Type Change\n",
    "\n",
    "### 🧭 OVERVIEW \n",
    "\n",
    "- When we perform data cleaning, two very common tasks are:\n",
    "\n",
    "- Replacing unwanted or incorrect values (e.g., missing data, inconsistent text, outliers, etc.)\n",
    "\n",
    "- Changing data types to make columns ready for analysis or modeling (e.g., converting “123” from string to integer)\n",
    "\n",
    "We’ll go through both systematically 👇"
   ]
  },
  {
   "cell_type": "code",
   "execution_count": 1,
   "id": "cfe8549f",
   "metadata": {},
   "outputs": [],
   "source": [
    "import pandas as pd"
   ]
  },
  {
   "cell_type": "code",
   "execution_count": 2,
   "id": "d312d050",
   "metadata": {},
   "outputs": [
    {
     "data": {
      "text/html": [
       "<div>\n",
       "<style scoped>\n",
       "    .dataframe tbody tr th:only-of-type {\n",
       "        vertical-align: middle;\n",
       "    }\n",
       "\n",
       "    .dataframe tbody tr th {\n",
       "        vertical-align: top;\n",
       "    }\n",
       "\n",
       "    .dataframe thead th {\n",
       "        text-align: right;\n",
       "    }\n",
       "</style>\n",
       "<table border=\"1\" class=\"dataframe\">\n",
       "  <thead>\n",
       "    <tr style=\"text-align: right;\">\n",
       "      <th></th>\n",
       "      <th>Loan_ID</th>\n",
       "      <th>Gender</th>\n",
       "      <th>Married</th>\n",
       "      <th>Dependents</th>\n",
       "      <th>Education</th>\n",
       "      <th>Self_Employed</th>\n",
       "      <th>ApplicantIncome</th>\n",
       "      <th>CoapplicantIncome</th>\n",
       "      <th>LoanAmount</th>\n",
       "      <th>Loan_Amount_Term</th>\n",
       "      <th>Credit_History</th>\n",
       "      <th>Property_Area</th>\n",
       "      <th>Loan_Status</th>\n",
       "    </tr>\n",
       "  </thead>\n",
       "  <tbody>\n",
       "    <tr>\n",
       "      <th>0</th>\n",
       "      <td>LP001002</td>\n",
       "      <td>Male</td>\n",
       "      <td>No</td>\n",
       "      <td>0</td>\n",
       "      <td>Graduate</td>\n",
       "      <td>No</td>\n",
       "      <td>5849</td>\n",
       "      <td>0.0</td>\n",
       "      <td>NaN</td>\n",
       "      <td>360.0</td>\n",
       "      <td>1.0</td>\n",
       "      <td>Urban</td>\n",
       "      <td>Y</td>\n",
       "    </tr>\n",
       "    <tr>\n",
       "      <th>1</th>\n",
       "      <td>LP001003</td>\n",
       "      <td>Male</td>\n",
       "      <td>Yes</td>\n",
       "      <td>1</td>\n",
       "      <td>Graduate</td>\n",
       "      <td>No</td>\n",
       "      <td>4583</td>\n",
       "      <td>1508.0</td>\n",
       "      <td>128.0</td>\n",
       "      <td>360.0</td>\n",
       "      <td>1.0</td>\n",
       "      <td>Rural</td>\n",
       "      <td>N</td>\n",
       "    </tr>\n",
       "    <tr>\n",
       "      <th>2</th>\n",
       "      <td>LP001005</td>\n",
       "      <td>Male</td>\n",
       "      <td>Yes</td>\n",
       "      <td>0</td>\n",
       "      <td>Graduate</td>\n",
       "      <td>Yes</td>\n",
       "      <td>3000</td>\n",
       "      <td>0.0</td>\n",
       "      <td>66.0</td>\n",
       "      <td>360.0</td>\n",
       "      <td>1.0</td>\n",
       "      <td>Urban</td>\n",
       "      <td>Y</td>\n",
       "    </tr>\n",
       "    <tr>\n",
       "      <th>3</th>\n",
       "      <td>LP001006</td>\n",
       "      <td>Male</td>\n",
       "      <td>Yes</td>\n",
       "      <td>0</td>\n",
       "      <td>Not Graduate</td>\n",
       "      <td>No</td>\n",
       "      <td>2583</td>\n",
       "      <td>2358.0</td>\n",
       "      <td>120.0</td>\n",
       "      <td>360.0</td>\n",
       "      <td>1.0</td>\n",
       "      <td>Urban</td>\n",
       "      <td>Y</td>\n",
       "    </tr>\n",
       "    <tr>\n",
       "      <th>4</th>\n",
       "      <td>LP001008</td>\n",
       "      <td>Male</td>\n",
       "      <td>No</td>\n",
       "      <td>0</td>\n",
       "      <td>Graduate</td>\n",
       "      <td>No</td>\n",
       "      <td>6000</td>\n",
       "      <td>0.0</td>\n",
       "      <td>141.0</td>\n",
       "      <td>360.0</td>\n",
       "      <td>1.0</td>\n",
       "      <td>Urban</td>\n",
       "      <td>Y</td>\n",
       "    </tr>\n",
       "  </tbody>\n",
       "</table>\n",
       "</div>"
      ],
      "text/plain": [
       "    Loan_ID Gender Married Dependents     Education Self_Employed  \\\n",
       "0  LP001002   Male      No          0      Graduate            No   \n",
       "1  LP001003   Male     Yes          1      Graduate            No   \n",
       "2  LP001005   Male     Yes          0      Graduate           Yes   \n",
       "3  LP001006   Male     Yes          0  Not Graduate            No   \n",
       "4  LP001008   Male      No          0      Graduate            No   \n",
       "\n",
       "   ApplicantIncome  CoapplicantIncome  LoanAmount  Loan_Amount_Term  \\\n",
       "0             5849                0.0         NaN             360.0   \n",
       "1             4583             1508.0       128.0             360.0   \n",
       "2             3000                0.0        66.0             360.0   \n",
       "3             2583             2358.0       120.0             360.0   \n",
       "4             6000                0.0       141.0             360.0   \n",
       "\n",
       "   Credit_History Property_Area Loan_Status  \n",
       "0             1.0         Urban           Y  \n",
       "1             1.0         Rural           N  \n",
       "2             1.0         Urban           Y  \n",
       "3             1.0         Urban           Y  \n",
       "4             1.0         Urban           Y  "
      ]
     },
     "execution_count": 2,
     "metadata": {},
     "output_type": "execute_result"
    }
   ],
   "source": [
    "df = pd.read_csv(\"loan_data_set.csv\")\n",
    "df.head()"
   ]
  },
  {
   "cell_type": "code",
   "execution_count": 3,
   "id": "9153aa01",
   "metadata": {},
   "outputs": [
    {
     "name": "stdout",
     "output_type": "stream",
     "text": [
      "<class 'pandas.core.frame.DataFrame'>\n",
      "RangeIndex: 614 entries, 0 to 613\n",
      "Data columns (total 13 columns):\n",
      " #   Column             Non-Null Count  Dtype  \n",
      "---  ------             --------------  -----  \n",
      " 0   Loan_ID            614 non-null    object \n",
      " 1   Gender             601 non-null    object \n",
      " 2   Married            611 non-null    object \n",
      " 3   Dependents         599 non-null    object \n",
      " 4   Education          614 non-null    object \n",
      " 5   Self_Employed      582 non-null    object \n",
      " 6   ApplicantIncome    614 non-null    int64  \n",
      " 7   CoapplicantIncome  614 non-null    float64\n",
      " 8   LoanAmount         592 non-null    float64\n",
      " 9   Loan_Amount_Term   600 non-null    float64\n",
      " 10  Credit_History     564 non-null    float64\n",
      " 11  Property_Area      614 non-null    object \n",
      " 12  Loan_Status        614 non-null    object \n",
      "dtypes: float64(4), int64(1), object(8)\n",
      "memory usage: 62.5+ KB\n"
     ]
    }
   ],
   "source": [
    "# we might have mixed data in our column meaning both categorical and numerical data is present in our column\n",
    "\n",
    "df.info()\n",
    "\n",
    "# for ex in dependents column we have numbers but in .info we are getting dtype as object\n"
   ]
  },
  {
   "cell_type": "code",
   "execution_count": 4,
   "id": "909ce1fb",
   "metadata": {},
   "outputs": [
    {
     "data": {
      "text/plain": [
       "Loan_ID               0\n",
       "Gender               13\n",
       "Married               3\n",
       "Dependents           15\n",
       "Education             0\n",
       "Self_Employed        32\n",
       "ApplicantIncome       0\n",
       "CoapplicantIncome     0\n",
       "LoanAmount           22\n",
       "Loan_Amount_Term     14\n",
       "Credit_History       50\n",
       "Property_Area         0\n",
       "Loan_Status           0\n",
       "dtype: int64"
      ]
     },
     "execution_count": 4,
     "metadata": {},
     "output_type": "execute_result"
    }
   ],
   "source": [
    "df.isnull().sum()"
   ]
  },
  {
   "cell_type": "code",
   "execution_count": 5,
   "id": "3673c3d4",
   "metadata": {},
   "outputs": [],
   "source": [
    "# lets handle the null values in the dependents columns \n",
    "from sklearn.impute import SimpleImputer\n",
    "\n",
    "modeImputer = SimpleImputer(strategy = \"most_frequent\")\n",
    "\n",
    "df[[\"Dependents\"]] = modeImputer.fit_transform(df[[\"Dependents\"]])"
   ]
  },
  {
   "cell_type": "code",
   "execution_count": 6,
   "id": "da779a82",
   "metadata": {},
   "outputs": [
    {
     "data": {
      "text/plain": [
       "np.int64(0)"
      ]
     },
     "execution_count": 6,
     "metadata": {},
     "output_type": "execute_result"
    }
   ],
   "source": [
    "df[\"Dependents\"].isnull().sum()"
   ]
  },
  {
   "cell_type": "markdown",
   "id": "e7fd3e1b",
   "metadata": {},
   "source": [
    "#### 🌟 **`value_counts()`** return the single series of frequency of the data points - like how many time each data point has appeared"
   ]
  },
  {
   "cell_type": "code",
   "execution_count": 7,
   "id": "058a6b15",
   "metadata": {},
   "outputs": [
    {
     "data": {
      "text/plain": [
       "Dependents\n",
       "0     360\n",
       "1     102\n",
       "2     101\n",
       "3+     51\n",
       "Name: count, dtype: int64"
      ]
     },
     "execution_count": 7,
     "metadata": {},
     "output_type": "execute_result"
    }
   ],
   "source": [
    "#  value_counts() count the frequency of the data points - like how many time each data point has appeared\n",
    "\n",
    "df[\"Dependents\"].value_counts()"
   ]
  },
  {
   "cell_type": "markdown",
   "id": "55be9ff6",
   "metadata": {},
   "source": [
    "# 🔹 1. **Using `replace()` Method**\n",
    "## 📘 **Syntax**\n",
    "\n",
    "```python\n",
    "    DataFrame.replace(to_replace, value, inplace=False, regex=False)\n",
    "\n",
    "```\n",
    "## ⚙️ Parameters\n",
    "\n",
    "| Parameter    | Description                                                                           |\n",
    "| ------------ | ------------------------------------------------------------------------------------- |\n",
    "| `to_replace` | The value(s) to be replaced (can be single value, list, dictionary, or regex pattern) |\n",
    "| `value`      | The new value(s) to use instead                                                       |\n",
    "| `inplace`    | If `True`, modifies the DataFrame directly                                            |\n",
    "| `regex`      | If `True`, treats the `to_replace` as a regex pattern                                 |\n",
    "\n",
    "## ✅ Example 1: Replace a Single Value\n"
   ]
  },
  {
   "cell_type": "markdown",
   "id": "45e2a194",
   "metadata": {},
   "source": [
    "##### Since we haven't changed the datatype of the column we have to enter the value as string only"
   ]
  },
  {
   "cell_type": "code",
   "execution_count": 8,
   "id": "9558451c",
   "metadata": {},
   "outputs": [
    {
     "name": "stderr",
     "output_type": "stream",
     "text": [
      "/tmp/ipykernel_12205/3255542628.py:1: FutureWarning: A value is trying to be set on a copy of a DataFrame or Series through chained assignment using an inplace method.\n",
      "The behavior will change in pandas 3.0. This inplace method will never work because the intermediate object on which we are setting values always behaves as a copy.\n",
      "\n",
      "For example, when doing 'df[col].method(value, inplace=True)', try using 'df.method({col: value}, inplace=True)' or df[col] = df[col].method(value) instead, to perform the operation inplace on the original object.\n",
      "\n",
      "\n",
      "  df[\"Dependents\"].replace(\"3+\",\"3\",inplace = True)\n"
     ]
    }
   ],
   "source": [
    "df[\"Dependents\"].replace(\"3+\",\"3\",inplace = True)"
   ]
  },
  {
   "cell_type": "markdown",
   "id": "b440c0ae",
   "metadata": {},
   "source": [
    "##### 🌟 **`.astype()`** returns a series of converted data points as specified inside paranthesis"
   ]
  },
  {
   "cell_type": "code",
   "execution_count": 9,
   "id": "c704bc87",
   "metadata": {},
   "outputs": [
    {
     "data": {
      "text/plain": [
       "0      0\n",
       "1      1\n",
       "2      0\n",
       "3      0\n",
       "4      0\n",
       "      ..\n",
       "609    0\n",
       "610    3\n",
       "611    1\n",
       "612    2\n",
       "613    0\n",
       "Name: Dependents, Length: 614, dtype: int64"
      ]
     },
     "execution_count": 9,
     "metadata": {},
     "output_type": "execute_result"
    }
   ],
   "source": [
    "df[\"Dependents\"].astype(\"int64\") # why because ML Algo works on Numerical data"
   ]
  },
  {
   "cell_type": "markdown",
   "id": "30664a13",
   "metadata": {},
   "source": [
    "## ✅ Example 2: Replace Multiple Values"
   ]
  },
  {
   "cell_type": "code",
   "execution_count": 10,
   "id": "ba0cd838",
   "metadata": {},
   "outputs": [],
   "source": [
    "df1 = pd.DataFrame({\n",
    "    'Gender': ['Male', 'Female', 'Unknown', 'Male'],\n",
    "    'Age': [25, 30, 22, 29]\n",
    "})"
   ]
  },
  {
   "cell_type": "code",
   "execution_count": 11,
   "id": "9e845b9c",
   "metadata": {},
   "outputs": [
    {
     "data": {
      "text/html": [
       "<div>\n",
       "<style scoped>\n",
       "    .dataframe tbody tr th:only-of-type {\n",
       "        vertical-align: middle;\n",
       "    }\n",
       "\n",
       "    .dataframe tbody tr th {\n",
       "        vertical-align: top;\n",
       "    }\n",
       "\n",
       "    .dataframe thead th {\n",
       "        text-align: right;\n",
       "    }\n",
       "</style>\n",
       "<table border=\"1\" class=\"dataframe\">\n",
       "  <thead>\n",
       "    <tr style=\"text-align: right;\">\n",
       "      <th></th>\n",
       "      <th>Gender</th>\n",
       "      <th>Age</th>\n",
       "    </tr>\n",
       "  </thead>\n",
       "  <tbody>\n",
       "    <tr>\n",
       "      <th>0</th>\n",
       "      <td>M</td>\n",
       "      <td>25</td>\n",
       "    </tr>\n",
       "    <tr>\n",
       "      <th>1</th>\n",
       "      <td>F</td>\n",
       "      <td>30</td>\n",
       "    </tr>\n",
       "    <tr>\n",
       "      <th>2</th>\n",
       "      <td>Unknown</td>\n",
       "      <td>22</td>\n",
       "    </tr>\n",
       "    <tr>\n",
       "      <th>3</th>\n",
       "      <td>M</td>\n",
       "      <td>29</td>\n",
       "    </tr>\n",
       "  </tbody>\n",
       "</table>\n",
       "</div>"
      ],
      "text/plain": [
       "    Gender  Age\n",
       "0        M   25\n",
       "1        F   30\n",
       "2  Unknown   22\n",
       "3        M   29"
      ]
     },
     "execution_count": 11,
     "metadata": {},
     "output_type": "execute_result"
    }
   ],
   "source": [
    "df1[\"Gender\"] = df1[\"Gender\"].replace([\"Male\", 'Female'], [\"M\", \"F\"])\n",
    "df1"
   ]
  },
  {
   "cell_type": "markdown",
   "id": "b0b6eb79",
   "metadata": {},
   "source": [
    "## ✅ Example 3: Replace using Dictionary"
   ]
  },
  {
   "cell_type": "code",
   "execution_count": 13,
   "id": "dadfea24",
   "metadata": {},
   "outputs": [
    {
     "data": {
      "text/html": [
       "<div>\n",
       "<style scoped>\n",
       "    .dataframe tbody tr th:only-of-type {\n",
       "        vertical-align: middle;\n",
       "    }\n",
       "\n",
       "    .dataframe tbody tr th {\n",
       "        vertical-align: top;\n",
       "    }\n",
       "\n",
       "    .dataframe thead th {\n",
       "        text-align: right;\n",
       "    }\n",
       "</style>\n",
       "<table border=\"1\" class=\"dataframe\">\n",
       "  <thead>\n",
       "    <tr style=\"text-align: right;\">\n",
       "      <th></th>\n",
       "      <th>Gender</th>\n",
       "      <th>Age</th>\n",
       "    </tr>\n",
       "  </thead>\n",
       "  <tbody>\n",
       "    <tr>\n",
       "      <th>0</th>\n",
       "      <td>Male</td>\n",
       "      <td>25</td>\n",
       "    </tr>\n",
       "    <tr>\n",
       "      <th>1</th>\n",
       "      <td>Female</td>\n",
       "      <td>30</td>\n",
       "    </tr>\n",
       "    <tr>\n",
       "      <th>2</th>\n",
       "      <td>Unknown</td>\n",
       "      <td>22</td>\n",
       "    </tr>\n",
       "    <tr>\n",
       "      <th>3</th>\n",
       "      <td>Male</td>\n",
       "      <td>29</td>\n",
       "    </tr>\n",
       "  </tbody>\n",
       "</table>\n",
       "</div>"
      ],
      "text/plain": [
       "    Gender  Age\n",
       "0     Male   25\n",
       "1   Female   30\n",
       "2  Unknown   22\n",
       "3     Male   29"
      ]
     },
     "execution_count": 13,
     "metadata": {},
     "output_type": "execute_result"
    }
   ],
   "source": [
    "df1.replace({\"Gender\" : {\"M\" : \"Male\", \"F\" : \"Female\"}}, inplace = True)\n",
    "df1"
   ]
  },
  {
   "cell_type": "markdown",
   "id": "9f00d48f",
   "metadata": {},
   "source": [
    "# 🔹 2. Using map() for Replacement (on Series)\n",
    "\n",
    "#### **`map()`** is handy when replacing values in **a single column** based on a mapping.\n",
    "\n",
    "#### 🧠 Explanation:\n",
    "\n",
    "- If a value in the column isn’t in the dictionary, it becomes `NaN`.\n",
    "\n",
    "- Hence, useful when mapping well-defined values."
   ]
  },
  {
   "cell_type": "code",
   "execution_count": 14,
   "id": "ce37dcee",
   "metadata": {},
   "outputs": [
    {
     "data": {
      "text/html": [
       "<div>\n",
       "<style scoped>\n",
       "    .dataframe tbody tr th:only-of-type {\n",
       "        vertical-align: middle;\n",
       "    }\n",
       "\n",
       "    .dataframe tbody tr th {\n",
       "        vertical-align: top;\n",
       "    }\n",
       "\n",
       "    .dataframe thead th {\n",
       "        text-align: right;\n",
       "    }\n",
       "</style>\n",
       "<table border=\"1\" class=\"dataframe\">\n",
       "  <thead>\n",
       "    <tr style=\"text-align: right;\">\n",
       "      <th></th>\n",
       "      <th>Gender</th>\n",
       "      <th>Age</th>\n",
       "    </tr>\n",
       "  </thead>\n",
       "  <tbody>\n",
       "    <tr>\n",
       "      <th>0</th>\n",
       "      <td>M</td>\n",
       "      <td>25</td>\n",
       "    </tr>\n",
       "    <tr>\n",
       "      <th>1</th>\n",
       "      <td>F</td>\n",
       "      <td>30</td>\n",
       "    </tr>\n",
       "    <tr>\n",
       "      <th>2</th>\n",
       "      <td>NaN</td>\n",
       "      <td>22</td>\n",
       "    </tr>\n",
       "    <tr>\n",
       "      <th>3</th>\n",
       "      <td>M</td>\n",
       "      <td>29</td>\n",
       "    </tr>\n",
       "  </tbody>\n",
       "</table>\n",
       "</div>"
      ],
      "text/plain": [
       "  Gender  Age\n",
       "0      M   25\n",
       "1      F   30\n",
       "2    NaN   22\n",
       "3      M   29"
      ]
     },
     "execution_count": 14,
     "metadata": {},
     "output_type": "execute_result"
    }
   ],
   "source": [
    "gender_map = {\"Male\" : \"M\", \"Female\" : \"F\"} \n",
    "df1[\"Gender\"] = df1[\"Gender\"].map(gender_map)\n",
    "df1"
   ]
  },
  {
   "cell_type": "markdown",
   "id": "5c3a3f47",
   "metadata": {},
   "source": [
    "# 🔹 3. **Using `apply()` for Conditional Replacement**\n",
    "\n",
    "#### If replacement depends on logic:\n",
    "\n",
    "#### 🧠 Explanation:\n",
    "\n",
    "- Applies a custom function to each element.\n",
    "\n",
    "- Great for conditional data cleaning or transformation."
   ]
  },
  {
   "cell_type": "code",
   "execution_count": 15,
   "id": "2c2bd7ec",
   "metadata": {},
   "outputs": [
    {
     "data": {
      "text/html": [
       "<div>\n",
       "<style scoped>\n",
       "    .dataframe tbody tr th:only-of-type {\n",
       "        vertical-align: middle;\n",
       "    }\n",
       "\n",
       "    .dataframe tbody tr th {\n",
       "        vertical-align: top;\n",
       "    }\n",
       "\n",
       "    .dataframe thead th {\n",
       "        text-align: right;\n",
       "    }\n",
       "</style>\n",
       "<table border=\"1\" class=\"dataframe\">\n",
       "  <thead>\n",
       "    <tr style=\"text-align: right;\">\n",
       "      <th></th>\n",
       "      <th>Gender</th>\n",
       "      <th>Age</th>\n",
       "      <th>Age_Group</th>\n",
       "    </tr>\n",
       "  </thead>\n",
       "  <tbody>\n",
       "    <tr>\n",
       "      <th>0</th>\n",
       "      <td>M</td>\n",
       "      <td>25</td>\n",
       "      <td>Adult</td>\n",
       "    </tr>\n",
       "    <tr>\n",
       "      <th>1</th>\n",
       "      <td>F</td>\n",
       "      <td>30</td>\n",
       "      <td>Adult</td>\n",
       "    </tr>\n",
       "    <tr>\n",
       "      <th>2</th>\n",
       "      <td>NaN</td>\n",
       "      <td>22</td>\n",
       "      <td>Adult</td>\n",
       "    </tr>\n",
       "    <tr>\n",
       "      <th>3</th>\n",
       "      <td>M</td>\n",
       "      <td>29</td>\n",
       "      <td>Adult</td>\n",
       "    </tr>\n",
       "  </tbody>\n",
       "</table>\n",
       "</div>"
      ],
      "text/plain": [
       "  Gender  Age Age_Group\n",
       "0      M   25     Adult\n",
       "1      F   30     Adult\n",
       "2    NaN   22     Adult\n",
       "3      M   29     Adult"
      ]
     },
     "execution_count": 15,
     "metadata": {},
     "output_type": "execute_result"
    }
   ],
   "source": [
    "df1[\"Age_Group\"] = df1[\"Age\"].apply(lambda x : \"Adult\" if x >= 18 else \"Minor\")\n",
    "df1"
   ]
  },
  {
   "cell_type": "markdown",
   "id": "9ef23519",
   "metadata": {},
   "source": [
    "# 🔹 4. **Using `.loc[]` for Conditional Replacement**\n",
    "\n",
    "#### For complex logical conditions:\n",
    "\n",
    "#### 🧠 Explanation:\n",
    "\n",
    "- Uses **conditional indexing**.\n",
    "\n",
    "- Replaces all values greater than 28 with 28.\n",
    "\n",
    "### **Code Explanation:**\n",
    "\n",
    "- **`df.loc[Condition, 'ColumnName'] = newValue`**\n",
    "\n",
    "- **`.loc[]`** is used to **access specific rows and columns** in a DataFrame by label.\n",
    "\n",
    "- The **first argument (condition)** **selects the rows**.\n",
    "\n",
    "- The **second argument ('Age') selects the column**.\n",
    "\n",
    "#### So, **`df.loc[df['Age'] > 28, 'Age']`** means:Select all rows where the value in the `Age` column is greater than 28,and then focus on the `Age` column of those rows."
   ]
  },
  {
   "cell_type": "code",
   "execution_count": 16,
   "id": "38cb1cb1",
   "metadata": {},
   "outputs": [
    {
     "data": {
      "text/html": [
       "<div>\n",
       "<style scoped>\n",
       "    .dataframe tbody tr th:only-of-type {\n",
       "        vertical-align: middle;\n",
       "    }\n",
       "\n",
       "    .dataframe tbody tr th {\n",
       "        vertical-align: top;\n",
       "    }\n",
       "\n",
       "    .dataframe thead th {\n",
       "        text-align: right;\n",
       "    }\n",
       "</style>\n",
       "<table border=\"1\" class=\"dataframe\">\n",
       "  <thead>\n",
       "    <tr style=\"text-align: right;\">\n",
       "      <th></th>\n",
       "      <th>Gender</th>\n",
       "      <th>Age</th>\n",
       "      <th>Age_Group</th>\n",
       "    </tr>\n",
       "  </thead>\n",
       "  <tbody>\n",
       "    <tr>\n",
       "      <th>0</th>\n",
       "      <td>M</td>\n",
       "      <td>25</td>\n",
       "      <td>Adult</td>\n",
       "    </tr>\n",
       "    <tr>\n",
       "      <th>1</th>\n",
       "      <td>F</td>\n",
       "      <td>28</td>\n",
       "      <td>Adult</td>\n",
       "    </tr>\n",
       "    <tr>\n",
       "      <th>2</th>\n",
       "      <td>NaN</td>\n",
       "      <td>22</td>\n",
       "      <td>Adult</td>\n",
       "    </tr>\n",
       "    <tr>\n",
       "      <th>3</th>\n",
       "      <td>M</td>\n",
       "      <td>28</td>\n",
       "      <td>Adult</td>\n",
       "    </tr>\n",
       "  </tbody>\n",
       "</table>\n",
       "</div>"
      ],
      "text/plain": [
       "  Gender  Age Age_Group\n",
       "0      M   25     Adult\n",
       "1      F   28     Adult\n",
       "2    NaN   22     Adult\n",
       "3      M   28     Adult"
      ]
     },
     "execution_count": 16,
     "metadata": {},
     "output_type": "execute_result"
    }
   ],
   "source": [
    "df1.loc[df1[\"Age\"] > 28, \"Age\"] = 28\n",
    "df1"
   ]
  },
  {
   "cell_type": "markdown",
   "id": "f8c7756f",
   "metadata": {},
   "source": [
    "# 🧩 Summary of Replace Techniques\n",
    "\n",
    "| Method      | Use Case                             | Works On           | Notes               |\n",
    "| ----------- | ------------------------------------ | ------------------ | ------------------- |\n",
    "| `replace()` | Simple direct replacement            | DataFrame / Series | Can use regex       |\n",
    "| `map()`     | Mapping values using dict            | Series             | Unmapped become NaN |\n",
    "| `apply()`   | Logical / Function-based replacement | Series             | Flexible            |\n",
    "| `loc[]`     | Conditional replacement              | DataFrame          | Very powerful       |\n"
   ]
  }
 ],
 "metadata": {
  "kernelspec": {
   "display_name": "myEnv",
   "language": "python",
   "name": "python3"
  },
  "language_info": {
   "codemirror_mode": {
    "name": "ipython",
    "version": 3
   },
   "file_extension": ".py",
   "mimetype": "text/x-python",
   "name": "python",
   "nbconvert_exporter": "python",
   "pygments_lexer": "ipython3",
   "version": "3.12.3"
  }
 },
 "nbformat": 4,
 "nbformat_minor": 5
}
